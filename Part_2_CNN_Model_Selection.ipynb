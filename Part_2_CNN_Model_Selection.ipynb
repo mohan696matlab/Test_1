{
 "cells": [
  {
   "cell_type": "code",
   "execution_count": 1,
   "metadata": {},
   "outputs": [],
   "source": [
    "import cv2\n",
    "import scipy\n",
    "import matplotlib.pyplot as plt \n",
    "import pandas as pd\n",
    "import seaborn as sns\n",
    "import numpy as np\n",
    "import glob\n",
    "from sklearn.model_selection import train_test_split\n",
    "from sklearn.metrics import confusion_matrix\n",
    "from sklearn import metrics\n",
    "\n",
    "\n",
    "from tensorflow.keras.models import load_model\n",
    "from tensorflow.keras.preprocessing import image\n",
    "from tensorflow.keras.callbacks import EarlyStopping\n",
    "import tensorflow as tf\n",
    "from tensorflow.keras.preprocessing.image import ImageDataGenerator\n",
    "from tensorflow.keras.applications import MobileNetV2\n",
    "from tensorflow.keras import layers, models"
   ]
  },
  {
   "cell_type": "markdown",
   "metadata": {},
   "source": [
    "# Image Data Preprocessing for Puck (rondelle) Detection\n",
    "\n",
    "This code snippet is dedicated to the preprocessing of image data for puck detection. It specifically handles images containing a puck (`images_with_puck`) and images without a puck (`images_without_puck`). The goal is to prepare the data for subsequent use in training a machine learning model for puck detection. This section reads and processes images with a puck. It uses OpenCV to read and resize images to a standard size of (224, 224). The images are also converted from BGR to RGB format. The processed images are stored in the with_puck_img list, and corresponding labels are stored in the label_with_puck_img list with a label of 1 indicating the presence of a puck.\n"
   ]
  },
  {
   "cell_type": "code",
   "execution_count": 2,
   "metadata": {},
   "outputs": [],
   "source": [
    "with_puck_img=[]\n",
    "label_with_puck_img=[]\n",
    "for img in glob.glob(\"..\\Training_images\\images_with_puck\\*.png\"):\n",
    "    n = cv2.imread(img)\n",
    "    n = cv2.resize(n, (224, 224))\n",
    "    n = cv2.cvtColor(n, cv2.COLOR_BGR2RGB)\n",
    "    with_puck_img.append(n)\n",
    "    label_with_puck_img.append(1)\n",
    "\n",
    "without_puck_img=[]\n",
    "label_without_puck_img=[]\n",
    "for img in glob.glob(\"..\\Training_images\\images_without_puck\\*.png\"):\n",
    "    n = cv2.imread(img)\n",
    "    n = cv2.resize(n, (224, 224))\n",
    "    n = cv2.cvtColor(n, cv2.COLOR_BGR2RGB)\n",
    "    without_puck_img.append(n)\n",
    "    label_without_puck_img.append(0)"
   ]
  },
  {
   "cell_type": "markdown",
   "metadata": {},
   "source": [
    "This section converts the processed image data and labels into NumPy arrays for further use. It also provides information about the total number of images with and without a puck."
   ]
  },
  {
   "cell_type": "code",
   "execution_count": 3,
   "metadata": {},
   "outputs": [
    {
     "name": "stdout",
     "output_type": "stream",
     "text": [
      "Total number of puck images: 35\n",
      "Total number of without puck images: 37\n"
     ]
    }
   ],
   "source": [
    "with_puck_img  = np.array(with_puck_img) \n",
    "label_with_puck_img  = np.array(label_with_puck_img) \n",
    "without_puck_img  = np.array(without_puck_img) \n",
    "label_without_puck_img  = np.array(label_without_puck_img) \n",
    "\n",
    "print(f'Total number of puck images: {len(with_puck_img)}')\n",
    "print(f'Total number of without puck images: {len(without_puck_img)}')"
   ]
  },
  {
   "cell_type": "markdown",
   "metadata": {},
   "source": [
    "## Data Concatenation and Normalization\n",
    "\n",
    "This code snippet is responsible for concatenating the processed image data and labels for further use in machine learning. It combines images with a puck (`with_puck_img`) and images without a puck (`without_puck_img`), normalizes the pixel values, and creates corresponding labels (`y`).\n"
   ]
  },
  {
   "cell_type": "code",
   "execution_count": 4,
   "metadata": {},
   "outputs": [],
   "source": [
    "X = np.concatenate((with_puck_img,without_puck_img ), axis=0)/255.0\n",
    "y = np.concatenate((label_with_puck_img,label_without_puck_img ), axis=0)"
   ]
  },
  {
   "cell_type": "markdown",
   "metadata": {},
   "source": [
    "## Train-test split"
   ]
  },
  {
   "cell_type": "code",
   "execution_count": 5,
   "metadata": {},
   "outputs": [
    {
     "data": {
      "text/plain": [
       "(48, 224, 224, 3)"
      ]
     },
     "execution_count": 5,
     "metadata": {},
     "output_type": "execute_result"
    }
   ],
   "source": [
    "X_train, X_val, y_train, y_val = train_test_split(X, y, test_size=0.33, random_state=42)\n",
    "X_train.shape"
   ]
  },
  {
   "cell_type": "markdown",
   "metadata": {},
   "source": [
    "# Evaluation of the Model on Test set\n",
    "\n",
    "To assess the trained model's performance, a fresh test dataset is formed using frames from the 'val.avi'. The model's evaluation involves the use of a confusion matrix and ROC curve."
   ]
  },
  {
   "cell_type": "code",
   "execution_count": 6,
   "metadata": {},
   "outputs": [
    {
     "name": "stdout",
     "output_type": "stream",
     "text": [
      "Total number of puck images: 76\n",
      "Total number of without puck images: 876\n"
     ]
    }
   ],
   "source": [
    "# Lists to store images and labels with puck\n",
    "with_puck_img = []\n",
    "label_with_puck_img = []\n",
    "\n",
    "# Load images with puck and preprocess\n",
    "for img in glob.glob(\"..\\Test_images\\images_with_puck\\*.png\"):\n",
    "    n = cv2.imread(img)\n",
    "    n = cv2.resize(n, (224, 224))\n",
    "    n = cv2.cvtColor(n, cv2.COLOR_BGR2RGB)\n",
    "    with_puck_img.append(n)\n",
    "    label_with_puck_img.append(1)\n",
    "\n",
    "# Lists to store images and labels without puck\n",
    "without_puck_img = []\n",
    "label_without_puck_img = []\n",
    "\n",
    "# Load images without puck and preprocess\n",
    "for img in glob.glob(\"..\\Test_images\\images_without_puck\\*.png\"):\n",
    "    n = cv2.imread(img)\n",
    "    n = cv2.resize(n, (224, 224))\n",
    "    n = cv2.cvtColor(n, cv2.COLOR_BGR2RGB)\n",
    "    without_puck_img.append(n)\n",
    "    label_without_puck_img.append(0)\n",
    "\n",
    "# Convert lists to NumPy arrays\n",
    "with_puck_img = np.array(with_puck_img)\n",
    "label_with_puck_img = np.array(label_with_puck_img)\n",
    "without_puck_img = np.array(without_puck_img)\n",
    "label_without_puck_img = np.array(label_without_puck_img)\n",
    "\n",
    "# Display total number of images for each class\n",
    "print(f'Total number of puck images: {len(with_puck_img)}')\n",
    "print(f'Total number of without puck images: {len(without_puck_img)}')\n",
    "\n",
    "# Create the test dataset\n",
    "X_test = np.concatenate((with_puck_img, without_puck_img[::5]), axis=0) / 255.0\n",
    "y_test = np.concatenate((label_with_puck_img, label_without_puck_img[::5]), axis=0)\n",
    "\n",
    "\n"
   ]
  },
  {
   "cell_type": "markdown",
   "metadata": {},
   "source": [
    "# Evaluating various structure of the CNN "
   ]
  },
  {
   "cell_type": "code",
   "execution_count": 7,
   "metadata": {},
   "outputs": [],
   "source": [
    "# Define the EarlyStopping callback\n",
    "early_stopping = EarlyStopping(\n",
    "    monitor='val_loss',  # Monitor validation accuracy\n",
    "    patience=20,  # Number of epochs with no improvement after which training will be stopped\n",
    "    restore_best_weights=True  # Restore weights from the epoch with the best value of the monitored quantity\n",
    ")\n",
    "\n",
    "\n",
    "def CreateCNN_Model(num_layers_cnn):\n",
    "    # Assert that num_layers_cnn is an integer and within the specified range\n",
    "    assert isinstance(num_layers_cnn, int), \"num_layers_cnn should be an integer\"\n",
    "    assert num_layers_cnn in [1, 2, 3], \"num_layers_cnn should be 1, 2, or 3\"\n",
    "\n",
    "    # Create a simple CNN model\n",
    "    model = models.Sequential()\n",
    "    model.add(layers.Conv2D(32, (3, 3), activation='relu', input_shape=(224, 224, 3)))\n",
    "    model.add(layers.MaxPooling2D((2, 2)))\n",
    "\n",
    "    if num_layers_cnn >= 2:\n",
    "        model.add(layers.Conv2D(64, (3, 3), activation='relu'))\n",
    "        model.add(layers.MaxPooling2D((2, 2)))\n",
    "\n",
    "    if num_layers_cnn >= 3:\n",
    "        model.add(layers.Conv2D(128, (3, 3), activation='relu'))\n",
    "        model.add(layers.MaxPooling2D((2, 2)))\n",
    "\n",
    "    model.add(layers.GlobalAveragePooling2D())\n",
    "    model.add(layers.Dense(64, activation='relu'))\n",
    "    model.add(layers.Dense(1, activation='sigmoid'))\n",
    "\n",
    "    # Compile the model\n",
    "    model.compile(optimizer='adam', loss='binary_crossentropy', metrics=['accuracy'])\n",
    "\n",
    "    return model"
   ]
  },
  {
   "cell_type": "markdown",
   "metadata": {},
   "source": [
    "## AUC metric\n",
    "The Area Under the Curve (AUC) of the Receiver Operating Characteristic (ROC) curve is used for model evaluation."
   ]
  },
  {
   "cell_type": "code",
   "execution_count": null,
   "metadata": {},
   "outputs": [
    {
     "name": "stdout",
     "output_type": "stream",
     "text": [
      "Training for Number of layer: 1\n",
      "The AUC for 1-layered CNN is: 22.73474880382775\n",
      "Training for Number of layer: 2\n",
      "The AUC for 2-layered CNN is: 21.022727272727273\n",
      "Training for Number of layer: 3\n",
      "The AUC for 3-layered CNN is: 99.99252392344498\n"
     ]
    }
   ],
   "source": [
    "AUC_metric = []\n",
    "\n",
    "for num in [1,2,3]:\n",
    "\n",
    "    print(f\"Training for Number of layer: {num}\")\n",
    "\n",
    "    cnn_exp_model = CreateCNN_Model(num_layers_cnn=num)\n",
    "\n",
    "    # Train the model\n",
    "    history = cnn_exp_model.fit(\n",
    "        X_train, y_train,\n",
    "        epochs=100,  # You can adjust the number of epochs\n",
    "        batch_size=16,\n",
    "        validation_data=(X_val, y_val),\n",
    "        callbacks=[early_stopping],\n",
    "        verbose=0\n",
    "    )\n",
    "\n",
    "    y_pred = cnn_exp_model.predict(X_test)\n",
    "\n",
    "    # Evaluate the model using ROC curve and calculate AUC\n",
    "    fpr, tpr, thresholds = metrics.roc_curve(y_test, y_pred, pos_label=1)\n",
    "    auc = metrics.auc(fpr, tpr)\n",
    "\n",
    "    AUC_metric.append(auc*100)\n",
    "    print(f\"The AUC for {num}-layered CNN is: {auc*100}\")\n",
    "\n",
    "\n",
    "\n",
    "    "
   ]
  },
  {
   "cell_type": "code",
   "execution_count": 23,
   "metadata": {},
   "outputs": [
    {
     "data": {
      "image/png": "[encoded data removed]",
      "text/plain": [
       "<Figure size 500x400 with 1 Axes>"
      ]
     },
     "metadata": {},
     "output_type": "display_data"
    }
   ],
   "source": [
    "# Plotting the bar chart\n",
    "plt.figure(figsize=(5,4))\n",
    "plt.bar([1, 2, 3], AUC_metric, color='blue')\n",
    "plt.xlabel('Number of Convolutional Layers in CNN')\n",
    "plt.ylabel('AUC  Metric')\n",
    "plt.title('CNN Model Evaluation with Novel Metric')\n",
    "plt.xticks([1, 2, 3])\n",
    "plt.show()"
   ]
  },
  {
   "cell_type": "markdown",
   "metadata": {},
   "source": [
    "# Visualizing the embeddibgs using T-SNE"
   ]
  },
  {
   "cell_type": "code",
   "execution_count": 9,
   "metadata": {},
   "outputs": [
    {
     "ename": "ResourceExhaustedError",
     "evalue": " OOM when allocating tensor with shape[16,32,111,111] and type float on /job:localhost/replica:0/task:0/device:GPU:0 by allocator GPU_0_bfc\n\t [[node sequential_1/max_pooling2d_3/MaxPool\n (defined at c:\\Users\\Administrator\\miniconda3\\envs\\tensorflow\\lib\\site-packages\\keras\\layers\\pooling.py:357)\n]]\nHint: If you want to see a list of allocated tensors when OOM happens, add report_tensor_allocations_upon_oom to RunOptions for current allocation info. This isn't available when running in Eager mode.\n [Op:__inference_train_function_1996]\n\nErrors may have originated from an input operation.\nInput Source operations connected to node sequential_1/max_pooling2d_3/MaxPool:\nIn[0] sequential_1/conv2d_3/Relu (defined at c:\\Users\\Administrator\\miniconda3\\envs\\tensorflow\\lib\\site-packages\\keras\\backend.py:4867)\n\nOperation defined at: (most recent call last)\n>>>   File \"c:\\Users\\Administrator\\miniconda3\\envs\\tensorflow\\lib\\runpy.py\", line 197, in _run_module_as_main\n>>>     return _run_code(code, main_globals, None,\n>>> \n>>>   File \"c:\\Users\\Administrator\\miniconda3\\envs\\tensorflow\\lib\\runpy.py\", line 87, in _run_code\n>>>     exec(code, run_globals)\n>>> \n>>>   File \"c:\\Users\\Administrator\\miniconda3\\envs\\tensorflow\\lib\\site-packages\\ipykernel_launcher.py\", line 17, in <module>\n>>>     app.launch_new_instance()\n>>> \n>>>   File \"c:\\Users\\Administrator\\miniconda3\\envs\\tensorflow\\lib\\site-packages\\traitlets\\config\\application.py\", line 976, in launch_instance\n>>>     app.start()\n>>> \n>>>   File \"c:\\Users\\Administrator\\miniconda3\\envs\\tensorflow\\lib\\site-packages\\ipykernel\\kernelapp.py\", line 712, in start\n>>>     self.io_loop.start()\n>>> \n>>>   File \"c:\\Users\\Administrator\\miniconda3\\envs\\tensorflow\\lib\\site-packages\\tornado\\platform\\asyncio.py\", line 215, in start\n>>>     self.asyncio_loop.run_forever()\n>>> \n>>>   File \"c:\\Users\\Administrator\\miniconda3\\envs\\tensorflow\\lib\\asyncio\\base_events.py\", line 601, in run_forever\n>>>     self._run_once()\n>>> \n>>>   File \"c:\\Users\\Administrator\\miniconda3\\envs\\tensorflow\\lib\\asyncio\\base_events.py\", line 1905, in _run_once\n>>>     handle._run()\n>>> \n>>>   File \"c:\\Users\\Administrator\\miniconda3\\envs\\tensorflow\\lib\\asyncio\\events.py\", line 80, in _run\n>>>     self._context.run(self._callback, *self._args)\n>>> \n>>>   File \"c:\\Users\\Administrator\\miniconda3\\envs\\tensorflow\\lib\\site-packages\\ipykernel\\kernelbase.py\", line 510, in dispatch_queue\n>>>     await self.process_one()\n>>> \n>>>   File \"c:\\Users\\Administrator\\miniconda3\\envs\\tensorflow\\lib\\site-packages\\ipykernel\\kernelbase.py\", line 499, in process_one\n>>>     await dispatch(*args)\n>>> \n>>>   File \"c:\\Users\\Administrator\\miniconda3\\envs\\tensorflow\\lib\\site-packages\\ipykernel\\kernelbase.py\", line 406, in dispatch_shell\n>>>     await result\n>>> \n>>>   File \"c:\\Users\\Administrator\\miniconda3\\envs\\tensorflow\\lib\\site-packages\\ipykernel\\kernelbase.py\", line 730, in execute_request\n>>>     reply_content = await reply_content\n>>> \n>>>   File \"c:\\Users\\Administrator\\miniconda3\\envs\\tensorflow\\lib\\site-packages\\ipykernel\\ipkernel.py\", line 383, in do_execute\n>>>     res = shell.run_cell(\n>>> \n>>>   File \"c:\\Users\\Administrator\\miniconda3\\envs\\tensorflow\\lib\\site-packages\\ipykernel\\zmqshell.py\", line 528, in run_cell\n>>>     return super().run_cell(*args, **kwargs)\n>>> \n>>>   File \"c:\\Users\\Administrator\\miniconda3\\envs\\tensorflow\\lib\\site-packages\\IPython\\core\\interactiveshell.py\", line 2885, in run_cell\n>>>     result = self._run_cell(\n>>> \n>>>   File \"c:\\Users\\Administrator\\miniconda3\\envs\\tensorflow\\lib\\site-packages\\IPython\\core\\interactiveshell.py\", line 2940, in _run_cell\n>>>     return runner(coro)\n>>> \n>>>   File \"c:\\Users\\Administrator\\miniconda3\\envs\\tensorflow\\lib\\site-packages\\IPython\\core\\async_helpers.py\", line 129, in _pseudo_sync_runner\n>>>     coro.send(None)\n>>> \n>>>   File \"c:\\Users\\Administrator\\miniconda3\\envs\\tensorflow\\lib\\site-packages\\IPython\\core\\interactiveshell.py\", line 3139, in run_cell_async\n>>>     has_raised = await self.run_ast_nodes(code_ast.body, cell_name,\n>>> \n>>>   File \"c:\\Users\\Administrator\\miniconda3\\envs\\tensorflow\\lib\\site-packages\\IPython\\core\\interactiveshell.py\", line 3318, in run_ast_nodes\n>>>     if await self.run_code(code, result, async_=asy):\n>>> \n>>>   File \"c:\\Users\\Administrator\\miniconda3\\envs\\tensorflow\\lib\\site-packages\\IPython\\core\\interactiveshell.py\", line 3378, in run_code\n>>>     exec(code_obj, self.user_global_ns, self.user_ns)\n>>> \n>>>   File \"C:\\Users\\Administrator\\AppData\\Local\\Temp\\ipykernel_15700\\4151081265.py\", line 10, in <module>\n>>>     history = cnn_exp_model.fit(\n>>> \n>>>   File \"c:\\Users\\Administrator\\miniconda3\\envs\\tensorflow\\lib\\site-packages\\keras\\utils\\traceback_utils.py\", line 64, in error_handler\n>>>     return fn(*args, **kwargs)\n>>> \n>>>   File \"c:\\Users\\Administrator\\miniconda3\\envs\\tensorflow\\lib\\site-packages\\keras\\engine\\training.py\", line 1216, in fit\n>>>     tmp_logs = self.train_function(iterator)\n>>> \n>>>   File \"c:\\Users\\Administrator\\miniconda3\\envs\\tensorflow\\lib\\site-packages\\keras\\engine\\training.py\", line 878, in train_function\n>>>     return step_function(self, iterator)\n>>> \n>>>   File \"c:\\Users\\Administrator\\miniconda3\\envs\\tensorflow\\lib\\site-packages\\keras\\engine\\training.py\", line 867, in step_function\n>>>     outputs = model.distribute_strategy.run(run_step, args=(data,))\n>>> \n>>>   File \"c:\\Users\\Administrator\\miniconda3\\envs\\tensorflow\\lib\\site-packages\\keras\\engine\\training.py\", line 860, in run_step\n>>>     outputs = model.train_step(data)\n>>> \n>>>   File \"c:\\Users\\Administrator\\miniconda3\\envs\\tensorflow\\lib\\site-packages\\keras\\engine\\training.py\", line 808, in train_step\n>>>     y_pred = self(x, training=True)\n>>> \n>>>   File \"c:\\Users\\Administrator\\miniconda3\\envs\\tensorflow\\lib\\site-packages\\keras\\utils\\traceback_utils.py\", line 64, in error_handler\n>>>     return fn(*args, **kwargs)\n>>> \n>>>   File \"c:\\Users\\Administrator\\miniconda3\\envs\\tensorflow\\lib\\site-packages\\keras\\engine\\base_layer.py\", line 1083, in __call__\n>>>     outputs = call_fn(inputs, *args, **kwargs)\n>>> \n>>>   File \"c:\\Users\\Administrator\\miniconda3\\envs\\tensorflow\\lib\\site-packages\\keras\\utils\\traceback_utils.py\", line 92, in error_handler\n>>>     return fn(*args, **kwargs)\n>>> \n>>>   File \"c:\\Users\\Administrator\\miniconda3\\envs\\tensorflow\\lib\\site-packages\\keras\\engine\\sequential.py\", line 373, in call\n>>>     return super(Sequential, self).call(inputs, training=training, mask=mask)\n>>> \n>>>   File \"c:\\Users\\Administrator\\miniconda3\\envs\\tensorflow\\lib\\site-packages\\keras\\engine\\functional.py\", line 451, in call\n>>>     return self._run_internal_graph(\n>>> \n>>>   File \"c:\\Users\\Administrator\\miniconda3\\envs\\tensorflow\\lib\\site-packages\\keras\\engine\\functional.py\", line 589, in _run_internal_graph\n>>>     outputs = node.layer(*args, **kwargs)\n>>> \n>>>   File \"c:\\Users\\Administrator\\miniconda3\\envs\\tensorflow\\lib\\site-packages\\keras\\utils\\traceback_utils.py\", line 64, in error_handler\n>>>     return fn(*args, **kwargs)\n>>> \n>>>   File \"c:\\Users\\Administrator\\miniconda3\\envs\\tensorflow\\lib\\site-packages\\keras\\engine\\base_layer.py\", line 1083, in __call__\n>>>     outputs = call_fn(inputs, *args, **kwargs)\n>>> \n>>>   File \"c:\\Users\\Administrator\\miniconda3\\envs\\tensorflow\\lib\\site-packages\\keras\\utils\\traceback_utils.py\", line 92, in error_handler\n>>>     return fn(*args, **kwargs)\n>>> \n>>>   File \"c:\\Users\\Administrator\\miniconda3\\envs\\tensorflow\\lib\\site-packages\\keras\\layers\\pooling.py\", line 357, in call\n>>>     outputs = self.pool_function(\n>>> ",
     "output_type": "error",
     "traceback": [
      "\u001b[1;31m---------------------------------------------------------------------------\u001b[0m",
      "\u001b[1;31mResourceExhaustedError\u001b[0m                    Traceback (most recent call last)",
      "Cell \u001b[1;32mIn [9], line 10\u001b[0m\n\u001b[0;32m      4\u001b[0m cnn_exp_model \u001b[38;5;241m=\u001b[39m CreateCNN_Model(num_layers_cnn\u001b[38;5;241m=\u001b[39m\u001b[38;5;241m3\u001b[39m)\n\u001b[0;32m      6\u001b[0m \u001b[38;5;28;01mfor\u001b[39;00m idx \u001b[38;5;129;01min\u001b[39;00m [\u001b[38;5;241m1\u001b[39m,\u001b[38;5;241m2\u001b[39m,\u001b[38;5;241m3\u001b[39m,\u001b[38;5;241m4\u001b[39m,\u001b[38;5;241m5\u001b[39m,\u001b[38;5;241m6\u001b[39m,\u001b[38;5;241m7\u001b[39m,\u001b[38;5;241m8\u001b[39m,\u001b[38;5;241m9\u001b[39m,\u001b[38;5;241m10\u001b[39m]:\n\u001b[0;32m      7\u001b[0m     \n\u001b[0;32m      8\u001b[0m \n\u001b[0;32m      9\u001b[0m     \u001b[38;5;66;03m# Train the model\u001b[39;00m\n\u001b[1;32m---> 10\u001b[0m     history \u001b[38;5;241m=\u001b[39m \u001b[43mcnn_exp_model\u001b[49m\u001b[38;5;241;43m.\u001b[39;49m\u001b[43mfit\u001b[49m\u001b[43m(\u001b[49m\n\u001b[0;32m     11\u001b[0m \u001b[43m        \u001b[49m\u001b[43mX_train\u001b[49m\u001b[43m,\u001b[49m\u001b[43m \u001b[49m\u001b[43my_train\u001b[49m\u001b[43m,\u001b[49m\n\u001b[0;32m     12\u001b[0m \u001b[43m        \u001b[49m\u001b[43mepochs\u001b[49m\u001b[38;5;241;43m=\u001b[39;49m\u001b[38;5;241;43m10\u001b[39;49m\u001b[43m,\u001b[49m\u001b[43m  \u001b[49m\u001b[38;5;66;43;03m# You can adjust the number of epochs\u001b[39;49;00m\n\u001b[0;32m     13\u001b[0m \u001b[43m        \u001b[49m\u001b[43mbatch_size\u001b[49m\u001b[38;5;241;43m=\u001b[39;49m\u001b[38;5;241;43m16\u001b[39;49m\u001b[43m,\u001b[49m\n\u001b[0;32m     14\u001b[0m \u001b[43m        \u001b[49m\u001b[43mvalidation_data\u001b[49m\u001b[38;5;241;43m=\u001b[39;49m\u001b[43m(\u001b[49m\u001b[43mX_val\u001b[49m\u001b[43m,\u001b[49m\u001b[43m \u001b[49m\u001b[43my_val\u001b[49m\u001b[43m)\u001b[49m\u001b[43m,\u001b[49m\n\u001b[0;32m     15\u001b[0m \u001b[43m        \u001b[49m\u001b[43mcallbacks\u001b[49m\u001b[38;5;241;43m=\u001b[39;49m\u001b[43m[\u001b[49m\u001b[43mearly_stopping\u001b[49m\u001b[43m]\u001b[49m\u001b[43m,\u001b[49m\n\u001b[0;32m     16\u001b[0m \u001b[43m        \u001b[49m\u001b[43mverbose\u001b[49m\u001b[38;5;241;43m=\u001b[39;49m\u001b[38;5;241;43m0\u001b[39;49m\n\u001b[0;32m     17\u001b[0m \u001b[43m    \u001b[49m\u001b[43m)\u001b[49m\n\u001b[0;32m     19\u001b[0m     \u001b[38;5;28mprint\u001b[39m(\u001b[38;5;124mf\u001b[39m\u001b[38;5;124m'\u001b[39m\u001b[38;5;124mAfter \u001b[39m\u001b[38;5;132;01m{\u001b[39;00midx\u001b[38;5;241m*\u001b[39m\u001b[38;5;241m10\u001b[39m\u001b[38;5;132;01m}\u001b[39;00m\u001b[38;5;124m epoches\u001b[39m\u001b[38;5;124m'\u001b[39m)\n\u001b[0;32m     21\u001b[0m     val_loss \u001b[38;5;241m=\u001b[39m history\u001b[38;5;241m.\u001b[39mhistory[\u001b[38;5;124m'\u001b[39m\u001b[38;5;124mval_loss\u001b[39m\u001b[38;5;124m'\u001b[39m][\u001b[38;5;241m-\u001b[39m\u001b[38;5;241m1\u001b[39m]\n",
      "File \u001b[1;32mc:\\Users\\Administrator\\miniconda3\\envs\\tensorflow\\lib\\site-packages\\keras\\utils\\traceback_utils.py:67\u001b[0m, in \u001b[0;36mfilter_traceback.<locals>.error_handler\u001b[1;34m(*args, **kwargs)\u001b[0m\n\u001b[0;32m     65\u001b[0m \u001b[38;5;28;01mexcept\u001b[39;00m \u001b[38;5;167;01mException\u001b[39;00m \u001b[38;5;28;01mas\u001b[39;00m e:  \u001b[38;5;66;03m# pylint: disable=broad-except\u001b[39;00m\n\u001b[0;32m     66\u001b[0m   filtered_tb \u001b[38;5;241m=\u001b[39m _process_traceback_frames(e\u001b[38;5;241m.\u001b[39m__traceback__)\n\u001b[1;32m---> 67\u001b[0m   \u001b[38;5;28;01mraise\u001b[39;00m e\u001b[38;5;241m.\u001b[39mwith_traceback(filtered_tb) \u001b[38;5;28;01mfrom\u001b[39;00m \u001b[38;5;28mNone\u001b[39m\n\u001b[0;32m     68\u001b[0m \u001b[38;5;28;01mfinally\u001b[39;00m:\n\u001b[0;32m     69\u001b[0m   \u001b[38;5;28;01mdel\u001b[39;00m filtered_tb\n",
      "File \u001b[1;32mc:\\Users\\Administrator\\miniconda3\\envs\\tensorflow\\lib\\site-packages\\tensorflow\\python\\eager\\execute.py:58\u001b[0m, in \u001b[0;36mquick_execute\u001b[1;34m(op_name, num_outputs, inputs, attrs, ctx, name)\u001b[0m\n\u001b[0;32m     56\u001b[0m \u001b[38;5;28;01mtry\u001b[39;00m:\n\u001b[0;32m     57\u001b[0m   ctx\u001b[38;5;241m.\u001b[39mensure_initialized()\n\u001b[1;32m---> 58\u001b[0m   tensors \u001b[38;5;241m=\u001b[39m pywrap_tfe\u001b[38;5;241m.\u001b[39mTFE_Py_Execute(ctx\u001b[38;5;241m.\u001b[39m_handle, device_name, op_name,\n\u001b[0;32m     59\u001b[0m                                       inputs, attrs, num_outputs)\n\u001b[0;32m     60\u001b[0m \u001b[38;5;28;01mexcept\u001b[39;00m core\u001b[38;5;241m.\u001b[39m_NotOkStatusException \u001b[38;5;28;01mas\u001b[39;00m e:\n\u001b[0;32m     61\u001b[0m   \u001b[38;5;28;01mif\u001b[39;00m name \u001b[38;5;129;01mis\u001b[39;00m \u001b[38;5;129;01mnot\u001b[39;00m \u001b[38;5;28;01mNone\u001b[39;00m:\n",
      "\u001b[1;31mResourceExhaustedError\u001b[0m:  OOM when allocating tensor with shape[16,32,111,111] and type float on /job:localhost/replica:0/task:0/device:GPU:0 by allocator GPU_0_bfc\n\t [[node sequential_1/max_pooling2d_3/MaxPool\n (defined at c:\\Users\\Administrator\\miniconda3\\envs\\tensorflow\\lib\\site-packages\\keras\\layers\\pooling.py:357)\n]]\nHint: If you want to see a list of allocated tensors when OOM happens, add report_tensor_allocations_upon_oom to RunOptions for current allocation info. This isn't available when running in Eager mode.\n [Op:__inference_train_function_1996]\n\nErrors may have originated from an input operation.\nInput Source operations connected to node sequential_1/max_pooling2d_3/MaxPool:\nIn[0] sequential_1/conv2d_3/Relu (defined at c:\\Users\\Administrator\\miniconda3\\envs\\tensorflow\\lib\\site-packages\\keras\\backend.py:4867)\n\nOperation defined at: (most recent call last)\n>>>   File \"c:\\Users\\Administrator\\miniconda3\\envs\\tensorflow\\lib\\runpy.py\", line 197, in _run_module_as_main\n>>>     return _run_code(code, main_globals, None,\n>>> \n>>>   File \"c:\\Users\\Administrator\\miniconda3\\envs\\tensorflow\\lib\\runpy.py\", line 87, in _run_code\n>>>     exec(code, run_globals)\n>>> \n>>>   File \"c:\\Users\\Administrator\\miniconda3\\envs\\tensorflow\\lib\\site-packages\\ipykernel_launcher.py\", line 17, in <module>\n>>>     app.launch_new_instance()\n>>> \n>>>   File \"c:\\Users\\Administrator\\miniconda3\\envs\\tensorflow\\lib\\site-packages\\traitlets\\config\\application.py\", line 976, in launch_instance\n>>>     app.start()\n>>> \n>>>   File \"c:\\Users\\Administrator\\miniconda3\\envs\\tensorflow\\lib\\site-packages\\ipykernel\\kernelapp.py\", line 712, in start\n>>>     self.io_loop.start()\n>>> \n>>>   File \"c:\\Users\\Administrator\\miniconda3\\envs\\tensorflow\\lib\\site-packages\\tornado\\platform\\asyncio.py\", line 215, in start\n>>>     self.asyncio_loop.run_forever()\n>>> \n>>>   File \"c:\\Users\\Administrator\\miniconda3\\envs\\tensorflow\\lib\\asyncio\\base_events.py\", line 601, in run_forever\n>>>     self._run_once()\n>>> \n>>>   File \"c:\\Users\\Administrator\\miniconda3\\envs\\tensorflow\\lib\\asyncio\\base_events.py\", line 1905, in _run_once\n>>>     handle._run()\n>>> \n>>>   File \"c:\\Users\\Administrator\\miniconda3\\envs\\tensorflow\\lib\\asyncio\\events.py\", line 80, in _run\n>>>     self._context.run(self._callback, *self._args)\n>>> \n>>>   File \"c:\\Users\\Administrator\\miniconda3\\envs\\tensorflow\\lib\\site-packages\\ipykernel\\kernelbase.py\", line 510, in dispatch_queue\n>>>     await self.process_one()\n>>> \n>>>   File \"c:\\Users\\Administrator\\miniconda3\\envs\\tensorflow\\lib\\site-packages\\ipykernel\\kernelbase.py\", line 499, in process_one\n>>>     await dispatch(*args)\n>>> \n>>>   File \"c:\\Users\\Administrator\\miniconda3\\envs\\tensorflow\\lib\\site-packages\\ipykernel\\kernelbase.py\", line 406, in dispatch_shell\n>>>     await result\n>>> \n>>>   File \"c:\\Users\\Administrator\\miniconda3\\envs\\tensorflow\\lib\\site-packages\\ipykernel\\kernelbase.py\", line 730, in execute_request\n>>>     reply_content = await reply_content\n>>> \n>>>   File \"c:\\Users\\Administrator\\miniconda3\\envs\\tensorflow\\lib\\site-packages\\ipykernel\\ipkernel.py\", line 383, in do_execute\n>>>     res = shell.run_cell(\n>>> \n>>>   File \"c:\\Users\\Administrator\\miniconda3\\envs\\tensorflow\\lib\\site-packages\\ipykernel\\zmqshell.py\", line 528, in run_cell\n>>>     return super().run_cell(*args, **kwargs)\n>>> \n>>>   File \"c:\\Users\\Administrator\\miniconda3\\envs\\tensorflow\\lib\\site-packages\\IPython\\core\\interactiveshell.py\", line 2885, in run_cell\n>>>     result = self._run_cell(\n>>> \n>>>   File \"c:\\Users\\Administrator\\miniconda3\\envs\\tensorflow\\lib\\site-packages\\IPython\\core\\interactiveshell.py\", line 2940, in _run_cell\n>>>     return runner(coro)\n>>> \n>>>   File \"c:\\Users\\Administrator\\miniconda3\\envs\\tensorflow\\lib\\site-packages\\IPython\\core\\async_helpers.py\", line 129, in _pseudo_sync_runner\n>>>     coro.send(None)\n>>> \n>>>   File \"c:\\Users\\Administrator\\miniconda3\\envs\\tensorflow\\lib\\site-packages\\IPython\\core\\interactiveshell.py\", line 3139, in run_cell_async\n>>>     has_raised = await self.run_ast_nodes(code_ast.body, cell_name,\n>>> \n>>>   File \"c:\\Users\\Administrator\\miniconda3\\envs\\tensorflow\\lib\\site-packages\\IPython\\core\\interactiveshell.py\", line 3318, in run_ast_nodes\n>>>     if await self.run_code(code, result, async_=asy):\n>>> \n>>>   File \"c:\\Users\\Administrator\\miniconda3\\envs\\tensorflow\\lib\\site-packages\\IPython\\core\\interactiveshell.py\", line 3378, in run_code\n>>>     exec(code_obj, self.user_global_ns, self.user_ns)\n>>> \n>>>   File \"C:\\Users\\Administrator\\AppData\\Local\\Temp\\ipykernel_15700\\4151081265.py\", line 10, in <module>\n>>>     history = cnn_exp_model.fit(\n>>> \n>>>   File \"c:\\Users\\Administrator\\miniconda3\\envs\\tensorflow\\lib\\site-packages\\keras\\utils\\traceback_utils.py\", line 64, in error_handler\n>>>     return fn(*args, **kwargs)\n>>> \n>>>   File \"c:\\Users\\Administrator\\miniconda3\\envs\\tensorflow\\lib\\site-packages\\keras\\engine\\training.py\", line 1216, in fit\n>>>     tmp_logs = self.train_function(iterator)\n>>> \n>>>   File \"c:\\Users\\Administrator\\miniconda3\\envs\\tensorflow\\lib\\site-packages\\keras\\engine\\training.py\", line 878, in train_function\n>>>     return step_function(self, iterator)\n>>> \n>>>   File \"c:\\Users\\Administrator\\miniconda3\\envs\\tensorflow\\lib\\site-packages\\keras\\engine\\training.py\", line 867, in step_function\n>>>     outputs = model.distribute_strategy.run(run_step, args=(data,))\n>>> \n>>>   File \"c:\\Users\\Administrator\\miniconda3\\envs\\tensorflow\\lib\\site-packages\\keras\\engine\\training.py\", line 860, in run_step\n>>>     outputs = model.train_step(data)\n>>> \n>>>   File \"c:\\Users\\Administrator\\miniconda3\\envs\\tensorflow\\lib\\site-packages\\keras\\engine\\training.py\", line 808, in train_step\n>>>     y_pred = self(x, training=True)\n>>> \n>>>   File \"c:\\Users\\Administrator\\miniconda3\\envs\\tensorflow\\lib\\site-packages\\keras\\utils\\traceback_utils.py\", line 64, in error_handler\n>>>     return fn(*args, **kwargs)\n>>> \n>>>   File \"c:\\Users\\Administrator\\miniconda3\\envs\\tensorflow\\lib\\site-packages\\keras\\engine\\base_layer.py\", line 1083, in __call__\n>>>     outputs = call_fn(inputs, *args, **kwargs)\n>>> \n>>>   File \"c:\\Users\\Administrator\\miniconda3\\envs\\tensorflow\\lib\\site-packages\\keras\\utils\\traceback_utils.py\", line 92, in error_handler\n>>>     return fn(*args, **kwargs)\n>>> \n>>>   File \"c:\\Users\\Administrator\\miniconda3\\envs\\tensorflow\\lib\\site-packages\\keras\\engine\\sequential.py\", line 373, in call\n>>>     return super(Sequential, self).call(inputs, training=training, mask=mask)\n>>> \n>>>   File \"c:\\Users\\Administrator\\miniconda3\\envs\\tensorflow\\lib\\site-packages\\keras\\engine\\functional.py\", line 451, in call\n>>>     return self._run_internal_graph(\n>>> \n>>>   File \"c:\\Users\\Administrator\\miniconda3\\envs\\tensorflow\\lib\\site-packages\\keras\\engine\\functional.py\", line 589, in _run_internal_graph\n>>>     outputs = node.layer(*args, **kwargs)\n>>> \n>>>   File \"c:\\Users\\Administrator\\miniconda3\\envs\\tensorflow\\lib\\site-packages\\keras\\utils\\traceback_utils.py\", line 64, in error_handler\n>>>     return fn(*args, **kwargs)\n>>> \n>>>   File \"c:\\Users\\Administrator\\miniconda3\\envs\\tensorflow\\lib\\site-packages\\keras\\engine\\base_layer.py\", line 1083, in __call__\n>>>     outputs = call_fn(inputs, *args, **kwargs)\n>>> \n>>>   File \"c:\\Users\\Administrator\\miniconda3\\envs\\tensorflow\\lib\\site-packages\\keras\\utils\\traceback_utils.py\", line 92, in error_handler\n>>>     return fn(*args, **kwargs)\n>>> \n>>>   File \"c:\\Users\\Administrator\\miniconda3\\envs\\tensorflow\\lib\\site-packages\\keras\\layers\\pooling.py\", line 357, in call\n>>>     outputs = self.pool_function(\n>>> "
     ]
    }
   ],
   "source": [
    "from sklearn.decomposition import PCA\n",
    "from tensorflow.keras.models import Model\n",
    "\n",
    "cnn_exp_model = CreateCNN_Model(num_layers_cnn=3)\n",
    "\n",
    "for idx in [1,2,3,4,5,6,7,8,9,10]:\n",
    "    \n",
    "\n",
    "    # Train the model\n",
    "    history = cnn_exp_model.fit(\n",
    "        X_train, y_train,\n",
    "        epochs=10,  # You can adjust the number of epochs\n",
    "        batch_size=16,\n",
    "        validation_data=(X_val, y_val),\n",
    "        callbacks=[early_stopping],\n",
    "        verbose=0\n",
    "    )\n",
    "\n",
    "    print(f'After {idx*10} epoches')\n",
    "\n",
    "    val_loss = history.history['val_loss'][-1]\n",
    "    val_acc =  history.history['val_accuracy'][-1]\n",
    "\n",
    "    feature_extractor = Model(cnn_exp_model.inputs,cnn_exp_model.get_layer(index=-3).output)\n",
    "\n",
    "    # from sklearn.manifold import TSNE\n",
    "\n",
    "    X_embed = feature_extractor(X_train).numpy()\n",
    "\n",
    "    pca = PCA(n_components=2)#TSNE(n_components=2,perplexity=8, random_state=42)\n",
    "    X_tsne = pca.fit_transform(X_embed)\n",
    "\n",
    "    # Plot the t-SNE scatter plot\n",
    "    plt.figure(figsize=(7, 6))\n",
    "    sns.scatterplot(x=X_tsne[:,0], y=X_tsne[:,1], hue=y_train, s=70)\n",
    "    plt.title(f'Val_accuracy: {val_acc:.3f} and Val Loss: {val_loss:.3f}')\n",
    "    plt.savefig(f'..\\Result_images\\{idx*10}.png',dpi=100)\n",
    "    plt.show()\n"
   ]
  },
  {
   "cell_type": "code",
   "execution_count": null,
   "metadata": {},
   "outputs": [],
   "source": []
  }
 ],
 "metadata": {
  "kernelspec": {
   "display_name": "tensorflow",
   "language": "python",
   "name": "python3"
  },
  "language_info": {
   "codemirror_mode": {
    "name": "ipython",
    "version": 3
   },
   "file_extension": ".py",
   "mimetype": "text/x-python",
   "name": "python",
   "nbconvert_exporter": "python",
   "pygments_lexer": "ipython3",
   "version": "3.9.13"
  }
 },
 "nbformat": 4,
 "nbformat_minor": 2
}
